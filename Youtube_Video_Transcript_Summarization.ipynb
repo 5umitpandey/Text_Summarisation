{
  "cells": [
    {
      "cell_type": "code",
      "execution_count": null,
      "metadata": {
        "colab": {
          "base_uri": "https://localhost:8080/"
        },
        "id": "tlpumP3FVaX1",
        "outputId": "35aff998-ba67-4c31-c583-2825a7427924"
      },
      "outputs": [
        {
          "output_type": "stream",
          "name": "stdout",
          "text": [
            "\u001b[2K     \u001b[90m━━━━━━━━━━━━━━━━━━━━━━━━━━━━━━━━━━━━━━━━\u001b[0m \u001b[32m7.0/7.0 MB\u001b[0m \u001b[31m44.9 MB/s\u001b[0m eta \u001b[36m0:00:00\u001b[0m\n",
            "\u001b[2K     \u001b[90m━━━━━━━━━━━━━━━━━━━━━━━━━━━━━━━━━━━━━━\u001b[0m \u001b[32m224.5/224.5 kB\u001b[0m \u001b[31m15.5 MB/s\u001b[0m eta \u001b[36m0:00:00\u001b[0m\n",
            "\u001b[2K     \u001b[90m━━━━━━━━━━━━━━━━━━━━━━━━━━━━━━━━━━━━━━━━\u001b[0m \u001b[32m7.8/7.8 MB\u001b[0m \u001b[31m57.3 MB/s\u001b[0m eta \u001b[36m0:00:00\u001b[0m\n",
            "\u001b[?25h"
          ]
        }
      ],
      "source": [
        "!pip install -q transformers\n",
        "!pip install -q youtube_transcript_api"
      ]
    },
    {
      "cell_type": "code",
      "execution_count": null,
      "metadata": {
        "id": "S4ppPcuNVWJs"
      },
      "outputs": [],
      "source": [
        "from transformers import pipeline\n",
        "from youtube_transcript_api import YouTubeTranscriptApi"
      ]
    },
    {
      "cell_type": "markdown",
      "source": [
        "Video 1"
      ],
      "metadata": {
        "id": "W7oFXnPj3Q0f"
      }
    },
    {
      "cell_type": "code",
      "execution_count": null,
      "metadata": {
        "id": "nadgLmS-XGCN"
      },
      "outputs": [],
      "source": [
        "youtube_video = \"https://www.youtube.com/watch?v=x6DfzkeQpQ0\""
      ]
    },
    {
      "cell_type": "code",
      "execution_count": null,
      "metadata": {
        "id": "MugczqjFXLtr"
      },
      "outputs": [],
      "source": [
        "video_id = youtube_video.split(\"=\")[1]"
      ]
    },
    {
      "cell_type": "code",
      "execution_count": null,
      "metadata": {
        "colab": {
          "base_uri": "https://localhost:8080/",
          "height": 321
        },
        "id": "KLQNhfZBYWVe",
        "outputId": "5f261b1e-5c4b-4285-ef9e-b8c4b5f40ce9"
      },
      "outputs": [
        {
          "output_type": "execute_result",
          "data": {
            "text/plain": [
              "<IPython.lib.display.YouTubeVideo at 0x7fc54da590c0>"
            ],
            "text/html": [
              "\n",
              "        <iframe\n",
              "            width=\"400\"\n",
              "            height=\"300\"\n",
              "            src=\"https://www.youtube.com/embed/x6DfzkeQpQ0\"\n",
              "            frameborder=\"0\"\n",
              "            allowfullscreen\n",
              "            \n",
              "        ></iframe>\n",
              "        "
            ],
            "image/jpeg": "[encoded data removed]"
          },
          "metadata": {},
          "execution_count": 25
        }
      ],
      "source": [
        "from IPython.display import YouTubeVideo\n",
        "YouTubeVideo(video_id)"
      ]
    },
    {
      "cell_type": "code",
      "execution_count": null,
      "metadata": {
        "id": "_sxrnhDVXXhR"
      },
      "outputs": [],
      "source": [
        "YouTubeTranscriptApi.get_transcript(video_id)\n",
        "transcript = YouTubeTranscriptApi.get_transcript(video_id)"
      ]
    },
    {
      "cell_type": "code",
      "execution_count": null,
      "metadata": {
        "colab": {
          "base_uri": "https://localhost:8080/"
        },
        "id": "OtepAI30e7gp",
        "outputId": "fdcc2647-9e7a-4bcd-abe5-fb049c6762b4"
      },
      "outputs": [
        {
          "output_type": "execute_result",
          "data": {
            "text/plain": [
              "[{'text': '[Music]', 'start': 0.51, 'duration': 2.61},\n",
              " {'text': 'cars that can talk to each other', 'start': 1.6, 'duration': 3.759},\n",
              " {'text': 'interact with traffic lights and even',\n",
              "  'start': 3.12,\n",
              "  'duration': 3.759},\n",
              " {'text': 'see around corners', 'start': 5.359, 'duration': 4.001},\n",
              " {'text': 'the advent of 5g could make these real',\n",
              "  'start': 6.879,\n",
              "  'duration': 4.241}]"
            ]
          },
          "metadata": {},
          "execution_count": 27
        }
      ],
      "source": [
        "transcript[0:5]"
      ]
    },
    {
      "cell_type": "code",
      "execution_count": null,
      "metadata": {
        "colab": {
          "base_uri": "https://localhost:8080/"
        },
        "id": "yOZD8yvoVZWb",
        "outputId": "ce598830-b981-4dd4-b534-41e424de7a1b"
      },
      "outputs": [
        {
          "output_type": "stream",
          "name": "stdout",
          "text": [
            "Transcript Length :  3711\n"
          ]
        }
      ],
      "source": [
        "result = \"\"\n",
        "for i in transcript:\n",
        "    result += ' ' + i['text']\n",
        "#print(result)\n",
        "print(\"Transcript Length : \", len(result))"
      ]
    },
    {
      "cell_type": "code",
      "execution_count": null,
      "metadata": {
        "colab": {
          "base_uri": "https://localhost:8080/"
        },
        "id": "WwzF8ncWYbu7",
        "outputId": "588676a3-4258-4e74-edaa-f653b4e5f99a"
      },
      "outputs": [
        {
          "output_type": "stream",
          "name": "stderr",
          "text": [
            "No model was supplied, defaulted to sshleifer/distilbart-cnn-12-6 and revision a4f8f3e (https://huggingface.co/sshleifer/distilbart-cnn-12-6).\n",
            "Using a pipeline without specifying a model name and revision in production is not recommended.\n"
          ]
        }
      ],
      "source": [
        "summarizer = pipeline('summarization')"
      ]
    },
    {
      "cell_type": "code",
      "source": [
        "num_iters = int(len(result)/1000)\n",
        "summarized_text = []\n",
        "for i in range(0, num_iters + 1):\n",
        "  start = 0\n",
        "  start = i * 1000\n",
        "  end = (i + 1) * 1000\n",
        "  print(\"\\nInput text \\n\" + result[start:end])\n",
        "  out = summarizer(result[start:end])\n",
        "  out = out[0]\n",
        "  out = out['summary_text']\n",
        "  print(\"\\nSummarized text\\n\"+out)\n",
        "  summarized_text.append(out)\n",
        "\n",
        "#print(summarized_text)"
      ],
      "metadata": {
        "colab": {
          "base_uri": "https://localhost:8080/"
        },
        "id": "KnlSlOKi8b4d",
        "outputId": "932b1e7c-60c5-4e10-84fc-796bde0a39f3"
      },
      "execution_count": null,
      "outputs": [
        {
          "output_type": "stream",
          "name": "stdout",
          "text": [
            "\n",
            "Input text \n",
            " [Music] cars that can talk to each other interact with traffic lights and even see around corners the advent of 5g could make these real bringing the faster speeds and greater bandwidth needed for smart traffic systems and truly autonomous vehicles but it's not the only option for connecting cars it's up against a more established wi-fi based technology there's a debate about which is better the choice is between the existing wi-fi standard called dsrc or dedicated short-range communications or cb2x cellular vehicle to everything that would eventually use 5g networks china was first to make a decision favoring cellular technology for its cars with recent developments in 5g that could be handing china an early lead their focus is leading to this real time to market advantage and frankly they'll be saving hundreds if not thousands of lives much sooner than we will as we fumble to determine which is the standard that is best for the long-term roadmap in the western world in october china\n",
            "\n",
            "Summarized text\n",
            " The advent of 5g could bring the faster speeds and greater bandwidth needed for smart traffic systems and truly autonomous vehicles . But it's not the only option for connecting cars it's up against a more established wi-fi based technology there's a debate about which is better the choice is between dsrc or dedicated short-range communications .\n",
            "\n",
            "Input text \n",
            " mandated the use of cb2x and gave it a dedicated band of spectrum in the us and europe the spectrum issue is unresolved and there's a split on which technology to use settling the standard matters if the federal government mandated a technology today it's estimated up to 8.1 million car crashes and 44 000 deaths could be prevented so how are the technologies different both are designed to connect cars directly to other vehicles and the infrastructure around them but the cellular tech can also harness a 5g network's wider coverage greater bandwidth and crucially it's lower latency that one millisecond delay of latency in 5g to let your car know that there's a car coming around the corner that you can't see is going to be critically important today with 4g that might be 10 or 20 or 30 milliseconds it'll be crucially important to the safety levels the wi-fi based standard also has low latency and backers like chipmaker nxp argue that it's a better option because the technology is mature \n",
            "\n",
            "Summarized text\n",
            " The cellular tech can harness a 5g network's wider coverage greater bandwidth and crucially it's lower latency that one millisecond delay of latency in 5g to let your car know that there's a car coming around the corner that you can't see is going to be critically important today . The wi-fi based standard also has low latency and backers argue that it's a better option because the technology is mature .\n",
            "\n",
            "Input text \n",
            "and ready for deployment now but supporters of the cellular tech say it has superior range and is more secure byton is a us ev startup that will build its car in china and bring it to market with basic self-driving capabilities 5g will enable vehicles to talk to different infrastructure it'll enable vehicles to talk to each other autonomous driving can use up to one and a half terabytes of data per hour that data needs to come into the vehicle and leave the vehicle cv2x can evolve with each new generation of cellular networks starting with 5g it would be as simple as switching the modem critics of the wi-fi standard say the technology is outdated and not appropriate for the cars of tomorrow so which will prevail 5g cv2x is now backed by a trade group representing more than 100 car manufacturers and chip makers including qualcomm vehicles are becoming more and more autonomous relying upon cameras and sensors once we start blending in both 5g and cameras and sensors we get to see a far m\n",
            "\n",
            "Summarized text\n",
            " 5g is now backed by more than 100 car manufacturers and chip makers including qualcomm . Supporters of the cellular tech say it has superior range and is more secure byton is a us ev startup that will build its car in china and bring it to market with basic self-driving capabilities 5g will enable vehicles to talk to different infrastructure .\n",
            "\n",
            "Input text \n",
            "ore transformative experience a european commission plan for the wi-fi based standard was defeated in july opening the door for a 5g standard supported by audi and bmw in the u.s the trump administration has put off making a decision but ford isn't waiting for washington in january the carmaker committed to deploying cv2x in its cars from 2022 currently general motors is the only us car maker promoting the older wi-fi standard bloomberg new energy finance says in the long term the u.s career and japan will adopt the cellular option as they aggressively deploy 5g networks for now the western world's left it to automakers to fight it out over which standard to adopt ed ludlow bloomberg news san francisco\n",
            "\n",
            "Summarized text\n",
            " ford committed to deploying cv2x in its cars from 2022 currently general motors is the only us car maker promoting the older wi-fi standard . In the long term the u.s. and japan will adopt the cellular option as they aggressively deploy 5g networks .\n"
          ]
        }
      ]
    },
    {
      "cell_type": "code",
      "execution_count": null,
      "metadata": {
        "colab": {
          "base_uri": "https://localhost:8080/"
        },
        "id": "rLrIX_yJWHFo",
        "outputId": "bc7ff883-4ec6-4882-9bff-7944fa0427ff"
      },
      "outputs": [
        {
          "output_type": "stream",
          "name": "stdout",
          "text": [
            "Summary Length :  1370\n"
          ]
        }
      ],
      "source": [
        "summary_length = len(str(summarized_text))\n",
        "print(\"Summary Length : \", summary_length)"
      ]
    },
    {
      "cell_type": "code",
      "execution_count": null,
      "metadata": {
        "colab": {
          "base_uri": "https://localhost:8080/"
        },
        "id": "31mkg8GbcddH",
        "outputId": "ff201d84-182c-45dc-e164-7b53200ad73e"
      },
      "outputs": [
        {
          "output_type": "stream",
          "name": "stdout",
          "text": [
            "Summary : \n",
            " [\" The advent of 5g could bring the faster speeds and greater bandwidth needed for smart traffic systems and truly autonomous vehicles . But it's not the only option for connecting cars it's up against a more established wi-fi based technology there's a debate about which is better the choice is between dsrc or dedicated short-range communications .\", \" The cellular tech can harness a 5g network's wider coverage greater bandwidth and crucially it's lower latency that one millisecond delay of latency in 5g to let your car know that there's a car coming around the corner that you can't see is going to be critically important today . The wi-fi based standard also has low latency and backers argue that it's a better option because the technology is mature .\", ' 5g is now backed by more than 100 car manufacturers and chip makers including qualcomm . Supporters of the cellular tech say it has superior range and is more secure byton is a us ev startup that will build its car in china and bring it to market with basic self-driving capabilities 5g will enable vehicles to talk to different infrastructure .', ' ford committed to deploying cv2x in its cars from 2022 currently general motors is the only us car maker promoting the older wi-fi standard . In the long term the u.s. and japan will adopt the cellular option as they aggressively deploy 5g networks .']\n"
          ]
        }
      ],
      "source": [
        "print(\"Summary : \\n\", summarized_text)"
      ]
    },
    {
      "cell_type": "markdown",
      "source": [
        "Video 2"
      ],
      "metadata": {
        "id": "6bWiPkp63Ord"
      }
    },
    {
      "cell_type": "code",
      "execution_count": null,
      "metadata": {
        "id": "vrN4_rk83eYD"
      },
      "outputs": [],
      "source": [
        "youtube_video2 = \"https://www.youtube.com/watch?v=MeVBe_7xJoM\""
      ]
    },
    {
      "cell_type": "code",
      "execution_count": null,
      "metadata": {
        "id": "m5uD5E9B3eYE"
      },
      "outputs": [],
      "source": [
        "video_id2 = youtube_video2.split(\"=\")[1]"
      ]
    },
    {
      "cell_type": "code",
      "execution_count": null,
      "metadata": {
        "colab": {
          "base_uri": "https://localhost:8080/",
          "height": 321
        },
        "outputId": "5244f4e1-dfca-44c8-b333-81d896806a80",
        "id": "yYdp4rPA3eYF"
      },
      "outputs": [
        {
          "output_type": "execute_result",
          "data": {
            "text/plain": [
              "<IPython.lib.display.YouTubeVideo at 0x7f2cc54b61a0>"
            ],
            "text/html": [
              "\n",
              "        <iframe\n",
              "            width=\"400\"\n",
              "            height=\"300\"\n",
              "            src=\"https://www.youtube.com/embed/MeVBe_7xJoM\"\n",
              "            frameborder=\"0\"\n",
              "            allowfullscreen\n",
              "            \n",
              "        ></iframe>\n",
              "        "
            ],
            "image/jpeg": "[encoded data removed]"
          },
          "metadata": {},
          "execution_count": 5
        }
      ],
      "source": [
        "from IPython.display import YouTubeVideo\n",
        "YouTubeVideo(video_id2)"
      ]
    },
    {
      "cell_type": "code",
      "execution_count": null,
      "metadata": {
        "id": "N3iOIS_n3eYG"
      },
      "outputs": [],
      "source": [
        "YouTubeTranscriptApi.get_transcript(video_id2)\n",
        "transcript2 = YouTubeTranscriptApi.get_transcript(video_id2)"
      ]
    },
    {
      "cell_type": "code",
      "execution_count": null,
      "metadata": {
        "colab": {
          "base_uri": "https://localhost:8080/"
        },
        "outputId": "0a52cbfd-baf7-4adb-9372-fea059d3bb22",
        "id": "OTrU9zr_3eYH"
      },
      "outputs": [
        {
          "output_type": "execute_result",
          "data": {
            "text/plain": [
              "[{'text': 'Hello everyone!', 'start': 1.23, 'duration': 1.01},\n",
              " {'text': 'My name is Sumit, I’m an 18 years old boy\\nfrom Delhi,',\n",
              "  'start': 2.24,\n",
              "  'duration': 3.349},\n",
              " {'text': 'I’m pursuing BCA – Data science in Pune\\nand I’m very excited to share my thoughts',\n",
              "  'start': 5.589,\n",
              "  'duration': 4.561},\n",
              " {'text': 'about my personality,', 'start': 10.15, 'duration': 2.38},\n",
              " {'text': 'My mother says that since my childhood only,\\nI’ve always been a very notorious and energetic',\n",
              "  'start': 12.53,\n",
              "  'duration': 4.13}]"
            ]
          },
          "metadata": {},
          "execution_count": 7
        }
      ],
      "source": [
        "transcript2[0:5]"
      ]
    },
    {
      "cell_type": "code",
      "execution_count": null,
      "metadata": {
        "colab": {
          "base_uri": "https://localhost:8080/"
        },
        "outputId": "c6ca0129-9dc3-4824-9faa-337662c99959",
        "id": "mYzAre8z3eYH"
      },
      "outputs": [
        {
          "output_type": "stream",
          "name": "stdout",
          "text": [
            "Transcript Length :  2601\n"
          ]
        }
      ],
      "source": [
        "result2 = \"\"\n",
        "for i2 in transcript2:\n",
        "    result2 += ' ' + i2['text']\n",
        "#print(result2)\n",
        "print(\"Transcript Length : \", len(result2))"
      ]
    },
    {
      "cell_type": "code",
      "execution_count": null,
      "metadata": {
        "colab": {
          "base_uri": "https://localhost:8080/",
          "height": 212,
          "referenced_widgets": [
            "f9bbc4fbf66b42efbff38ac368698043",
            "c9db1b1a65d54cc3b1de33df188cb675",
            "c640f45096d14e019d7a97769a1ae4fd",
            "d50a783fa36948ca856e6133b6c31c83",
            "eddb73f8f6a640658000cd6891cb4b76",
            "35fb417fd47d465e877cda8e9c8e6e03",
            "35d558186f0b4de18a1d6a452eba8949",
            "179590449ae242218cd435ba46c1026a",
            "e1c409354f7a4dd6ac1f9e76ff792ba0",
            "320dea9df38e4176b9f5c5048cf4e070",
            "f6bb9c8f06d04171b10ff1b731c59a0e",
            "3a7df2f6648547ab95dea45ff3885fd2",
            "7415f64be9dc436b89f0ca2f217357cb",
            "1aff79f20b82434089ab4d031e1b9ca3",
            "c7aa8df81c9e48659d646118b0582242",
            "1a5749f305c04375ba092879b988de14",
            "a1d92393e56c498db2b15dfcb2089a25",
            "cc7df3184dad4994af5d652eb9c10db9",
            "12315f4ceec44e148f406be58ca112ea",
            "591b3a128cae41428e10c08ad6c451aa",
            "4df61740a4c7475195ba737486897bf7",
            "f3889341127a4377a7bb68c39f2965e9",
            "eecd95d484fa4147ad3529b984473b7e",
            "fa310a58e1584a5bb6e787db73c25e6d",
            "1d834083b0e94e509cc9ec111f0d638e",
            "2051cd8041c74a248d3488d4be346f73",
            "97b252ce563b4c7cbb7d0885f994aab8",
            "e4abd5f4b5c64e35899c2fcadb52f020",
            "ea1c1ad068674e7e98638966d27c15b6",
            "af395194c0f04cfa9b94f34ad9d351cb",
            "b57f63ac6ff944cf87d8c66410316a9a",
            "262da478a9b446f59f44b4ac4ca945eb",
            "129c2faffdd448438e0b1eb173f9b590",
            "80d1c15eecd746e99111fc99d5898795",
            "aa697034c70e4ab2abac78075cebf99b",
            "9ae160b5a53240a9820a6cc914dcbc11",
            "af431518819549de8c410cc36af2dd3a",
            "2800642263bf4897a83e0bcca78df482",
            "176e9b9829814848ad343d42b76855e5",
            "93ede27e3f6f4777b72b047c5fe24299",
            "f388f59a609f4ef9b49962ad831d516a",
            "9ca3f65734584cce9b7f0faeb47959fa",
            "9032419195b74151a8106a8f888476ff",
            "33644e6d1bc74743a68bd8c86676b025",
            "d10f7eda775c4bd9b5d9bf829477ea69",
            "2f9fea3642f94b619d7251bc776dbc1e",
            "031d437cb3904bf8963a9ad63a636489",
            "a3f323f451da4c38b3dcaddb51c6a9d1",
            "b174ea9503864793a6ae2bfaa43695c4",
            "19f5369a72cb4ab2a8418f54ffab7011",
            "a00030e649324412a38bd0975ef5b7ce",
            "16e989951d434c95a87f22328767f422",
            "3cdb33e6ca8c46ac9f51fca8cbfacf21",
            "6d64c478de214b61bc166bf1e13d8a60",
            "855b1fa3a06549e08ce04812918ea7ae"
          ]
        },
        "outputId": "5cde81d0-5c9e-4da8-a522-f12f1b7d59aa",
        "id": "RBOs9XwE3eYI"
      },
      "outputs": [
        {
          "output_type": "stream",
          "name": "stderr",
          "text": [
            "No model was supplied, defaulted to sshleifer/distilbart-cnn-12-6 and revision a4f8f3e (https://huggingface.co/sshleifer/distilbart-cnn-12-6).\n",
            "Using a pipeline without specifying a model name and revision in production is not recommended.\n"
          ]
        },
        {
          "output_type": "display_data",
          "data": {
            "text/plain": [
              "Downloading (…)lve/main/config.json:   0%|          | 0.00/1.80k [00:00<?, ?B/s]"
            ],
            "application/vnd.jupyter.widget-view+json": {
              "version_major": 2,
              "version_minor": 0,
              "model_id": "f9bbc4fbf66b42efbff38ac368698043"
            }
          },
          "metadata": {}
        },
        {
          "output_type": "display_data",
          "data": {
            "text/plain": [
              "Downloading pytorch_model.bin:   0%|          | 0.00/1.22G [00:00<?, ?B/s]"
            ],
            "application/vnd.jupyter.widget-view+json": {
              "version_major": 2,
              "version_minor": 0,
              "model_id": "3a7df2f6648547ab95dea45ff3885fd2"
            }
          },
          "metadata": {}
        },
        {
          "output_type": "display_data",
          "data": {
            "text/plain": [
              "Downloading (…)okenizer_config.json:   0%|          | 0.00/26.0 [00:00<?, ?B/s]"
            ],
            "application/vnd.jupyter.widget-view+json": {
              "version_major": 2,
              "version_minor": 0,
              "model_id": "eecd95d484fa4147ad3529b984473b7e"
            }
          },
          "metadata": {}
        },
        {
          "output_type": "display_data",
          "data": {
            "text/plain": [
              "Downloading (…)olve/main/vocab.json:   0%|          | 0.00/899k [00:00<?, ?B/s]"
            ],
            "application/vnd.jupyter.widget-view+json": {
              "version_major": 2,
              "version_minor": 0,
              "model_id": "80d1c15eecd746e99111fc99d5898795"
            }
          },
          "metadata": {}
        },
        {
          "output_type": "display_data",
          "data": {
            "text/plain": [
              "Downloading (…)olve/main/merges.txt:   0%|          | 0.00/456k [00:00<?, ?B/s]"
            ],
            "application/vnd.jupyter.widget-view+json": {
              "version_major": 2,
              "version_minor": 0,
              "model_id": "d10f7eda775c4bd9b5d9bf829477ea69"
            }
          },
          "metadata": {}
        }
      ],
      "source": [
        "summarizer2 = pipeline('summarization')"
      ]
    },
    {
      "cell_type": "code",
      "execution_count": null,
      "metadata": {
        "colab": {
          "base_uri": "https://localhost:8080/"
        },
        "outputId": "d10fe6a0-a533-42d3-f353-dbaf5d23c996",
        "id": "WbVdR7fv3eYJ"
      },
      "outputs": [
        {
          "output_type": "stream",
          "name": "stdout",
          "text": [
            "\n",
            "Input text \n",
            " Hello everyone! My name is Sumit, I’m an 18 years old boy\n",
            "from Delhi, I’m pursuing BCA – Data science in Pune\n",
            "and I’m very excited to share my thoughts about my personality, My mother says that since my childhood only,\n",
            "I’ve always been a very notorious and energetic boy, but also very irresponsible, stubborn,\n",
            "hot-tempered and other similar qualities which makes me so resentful! Oh, wait, Is this making her right?? Well if I have to compare myself to a non-living\n",
            "object, I would love to compare myself with a rock,\n",
            "no, not this one, yeah this one! because if you don’t bother me, I won’t\n",
            "bother you, well jokes apart I can compare myself to a spring, the more you compress\n",
            "me, the higher I'll fly. I’m a pleasant and outgoing person, very\n",
            "optimistic and thoughtful? Yes, but sometimes very insensitive, but see,\n",
            "at least I’m being honest right? I’m very frank and sometimes that causes\n",
            "me a lot of trouble. I take unbiased decisions, I’m very open\n",
            "and strong-minded, I'm confident, and this char\n",
            "\n",
            "Summarized text\n",
            " Sumit is an 18-year-old boy pursuing BCA – Data science in Pune . His mother says he's always been a notorious and energetic boy, but also very irresponsible, stubborn, hot-tempered and other similar qualities which makes him resentful . He is a pleasant and outgoing person, very optimistic and thoughtful, but sometimes very insensitive .\n",
            "\n",
            "Input text \n",
            "acteristic can sum up my personality. In my eyes, I’m noble but self-centred,\n",
            "faithful and very well-founded. I love hanging out in groups, you’ll always\n",
            "be motivated and learn different types of skills if you love being in groups, I'm very\n",
            "hard working, but only physically and that explains why there are no books in my list. You will always find me doing well in team\n",
            "sports like basketball or football, because it requires leadership qualities, quick thinking,\n",
            "a very high standard of patience and composure, and it enables my assisting qualities as well. Not into studies but I love presentations,\n",
            "case studies, and exploring new ideas with my team for our future start-up, well that\n",
            "was a joke. My dream world is definitely the world of\n",
            "computer science, my laptop and all the robotic models I made in my school will always be\n",
            "my fav things. Always getting inspired by sports and tech\n",
            "personalities like Zuckerberg and Elon Musk, like them, I also think practically. Careful and consistent, I a\n",
            "\n",
            "Summarized text\n",
            " In my eyes, I’m noble but self-centred, faithful and very well-founded . I love hanging out in groups, you’ll always be motivated and learn different types of skills if you love being in groups . My dream world is definitely the world of computer science, my laptop and all the robotic models I made in my school will always be my favourite things .\n",
            "\n",
            "Input text \n",
            "lways tend to be\n",
            "self-motivated. I rarely need external inspiration to be productive\n",
            "and focused. So fly with me if you are ready to fall with\n",
            "me. In the end, I want people to speak what is\n",
            "right about me, what they really think rather than what I want to hear. I just love motivating people, happy faces\n",
            "are all I want to see, even if it takes me to drop or decline myself anywhere, I’ll\n",
            "insult myself just to make you laugh and burst out of happy tears. This knowledge is only the beginning of my\n",
            "lifelong journey and I’m very thankful that you saw this with a smile on your face. Thank you so much!\n",
            "\n",
            "Summarized text\n",
            " This knowledge is only the beginning of my lifelong journey and I’m very thankful that you saw this with a smile on your face . I just love motivating people, happy faces are all I want to see, even if it takes me to drop or decline myself anywhere .\n"
          ]
        }
      ],
      "source": [
        "num_iters2 = int(len(result2)/1000)\n",
        "summarized_text2 = []\n",
        "for i2 in range(0, num_iters2 + 1):\n",
        "  start2 = 0\n",
        "  start2 = i2 * 1000\n",
        "  end2 = (i2 + 1) * 1000\n",
        "  print(\"\\nInput text \\n\" + result2[start2:end2])\n",
        "  out2 = summarizer2(result2[start2:end2])\n",
        "  out2 = out2[0]\n",
        "  out2 = out2['summary_text']\n",
        "  print(\"\\nSummarized text\\n\" + out2)\n",
        "  summarized_text2.append(out2)\n",
        "\n",
        "#print(summarized_text2)"
      ]
    },
    {
      "cell_type": "code",
      "execution_count": null,
      "metadata": {
        "colab": {
          "base_uri": "https://localhost:8080/"
        },
        "outputId": "904c2a4c-89e6-4e09-e2af-da0b5094ea87",
        "id": "fQp67NYP3eYK"
      },
      "outputs": [
        {
          "output_type": "stream",
          "name": "stdout",
          "text": [
            "Summary Length :  954\n"
          ]
        }
      ],
      "source": [
        "summary_length2 = len(str(summarized_text2))\n",
        "print(\"Summary Length : \", summary_length2)"
      ]
    },
    {
      "cell_type": "code",
      "execution_count": null,
      "metadata": {
        "colab": {
          "base_uri": "https://localhost:8080/"
        },
        "outputId": "67197de5-67c6-4d0a-dfe5-2c62b32c6156",
        "id": "E4qxA7lL3eYK"
      },
      "outputs": [
        {
          "output_type": "stream",
          "name": "stdout",
          "text": [
            "Summary : \n",
            " [\" Sumit is an 18-year-old boy pursuing BCA – Data science in Pune . His mother says he's always been a notorious and energetic boy, but also very irresponsible, stubborn, hot-tempered and other similar qualities which makes him resentful . He is a pleasant and outgoing person, very optimistic and thoughtful, but sometimes very insensitive .\", ' In my eyes, I’m noble but self-centred, faithful and very well-founded . I love hanging out in groups, you’ll always be motivated and learn different types of skills if you love being in groups . My dream world is definitely the world of computer science, my laptop and all the robotic models I made in my school will always be my favourite things .', ' This knowledge is only the beginning of my lifelong journey and I’m very thankful that you saw this with a smile on your face . I just love motivating people, happy faces are all I want to see, even if it takes me to drop or decline myself anywhere .']\n"
          ]
        }
      ],
      "source": [
        "print(\"Summary : \\n\", summarized_text2)"
      ]
    }
  ],
  "metadata": {
    "colab": {
      "provenance": []
    },
    "kernelspec": {
      "display_name": "Python 3",
      "name": "python3"
    },
    "language_info": {
      "name": "python"
    }
  },
  "nbformat": 4,
  "nbformat_minor": 0
}