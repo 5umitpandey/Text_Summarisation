{
  "nbformat": 4,
  "nbformat_minor": 0,
  "metadata": {
    "colab": {
      "provenance": []
    },
    "kernelspec": {
      "name": "python3",
      "display_name": "Python 3"
    },
    "language_info": {
      "name": "python"
    }
  },
  "cells": [
    {
      "cell_type": "code",
      "source": [
        "!pip install -q transformers\n",
        "!pip install transformers googletrans==4.0.0-rc1"
      ],
      "metadata": {
        "colab": {
          "base_uri": "https://localhost:8080/"
        },
        "id": "RXlv4krfAOso",
        "outputId": "043214c0-83ac-46fe-f49e-c02e75ea87a7"
      },
      "execution_count": null,
      "outputs": [
        {
          "output_type": "stream",
          "name": "stdout",
          "text": [
            "Looking in indexes: https://pypi.org/simple, https://us-python.pkg.dev/colab-wheels/public/simple/\n",
            "Requirement already satisfied: transformers in /usr/local/lib/python3.10/dist-packages (4.28.1)\n",
            "Requirement already satisfied: googletrans==4.0.0-rc1 in /usr/local/lib/python3.10/dist-packages (4.0.0rc1)\n",
            "Requirement already satisfied: httpx==0.13.3 in /usr/local/lib/python3.10/dist-packages (from googletrans==4.0.0-rc1) (0.13.3)\n",
            "Requirement already satisfied: chardet==3.* in /usr/local/lib/python3.10/dist-packages (from httpx==0.13.3->googletrans==4.0.0-rc1) (3.0.4)\n",
            "Requirement already satisfied: hstspreload in /usr/local/lib/python3.10/dist-packages (from httpx==0.13.3->googletrans==4.0.0-rc1) (2023.1.1)\n",
            "Requirement already satisfied: httpcore==0.9.* in /usr/local/lib/python3.10/dist-packages (from httpx==0.13.3->googletrans==4.0.0-rc1) (0.9.1)\n",
            "Requirement already satisfied: sniffio in /usr/local/lib/python3.10/dist-packages (from httpx==0.13.3->googletrans==4.0.0-rc1) (1.3.0)\n",
            "Requirement already satisfied: certifi in /usr/local/lib/python3.10/dist-packages (from httpx==0.13.3->googletrans==4.0.0-rc1) (2022.12.7)\n",
            "Requirement already satisfied: rfc3986<2,>=1.3 in /usr/local/lib/python3.10/dist-packages (from httpx==0.13.3->googletrans==4.0.0-rc1) (1.5.0)\n",
            "Requirement already satisfied: idna==2.* in /usr/local/lib/python3.10/dist-packages (from httpx==0.13.3->googletrans==4.0.0-rc1) (2.10)\n",
            "Requirement already satisfied: h2==3.* in /usr/local/lib/python3.10/dist-packages (from httpcore==0.9.*->httpx==0.13.3->googletrans==4.0.0-rc1) (3.2.0)\n",
            "Requirement already satisfied: h11<0.10,>=0.8 in /usr/local/lib/python3.10/dist-packages (from httpcore==0.9.*->httpx==0.13.3->googletrans==4.0.0-rc1) (0.9.0)\n",
            "Requirement already satisfied: hpack<4,>=3.0 in /usr/local/lib/python3.10/dist-packages (from h2==3.*->httpcore==0.9.*->httpx==0.13.3->googletrans==4.0.0-rc1) (3.0.0)\n",
            "Requirement already satisfied: hyperframe<6,>=5.2.0 in /usr/local/lib/python3.10/dist-packages (from h2==3.*->httpcore==0.9.*->httpx==0.13.3->googletrans==4.0.0-rc1) (5.2.0)\n",
            "Requirement already satisfied: huggingface-hub<1.0,>=0.11.0 in /usr/local/lib/python3.10/dist-packages (from transformers) (0.14.1)\n",
            "Requirement already satisfied: regex!=2019.12.17 in /usr/local/lib/python3.10/dist-packages (from transformers) (2023.5.5)\n",
            "Requirement already satisfied: requests in /usr/local/lib/python3.10/dist-packages (from transformers) (2.30.0)\n",
            "Requirement already satisfied: tqdm>=4.27 in /usr/local/lib/python3.10/dist-packages (from transformers) (4.65.0)\n",
            "Requirement already satisfied: pyyaml>=5.1 in /usr/local/lib/python3.10/dist-packages (from transformers) (6.0)\n",
            "Requirement already satisfied: tokenizers!=0.11.3,<0.14,>=0.11.1 in /usr/local/lib/python3.10/dist-packages (from transformers) (0.13.3)\n",
            "Requirement already satisfied: packaging>=20.0 in /usr/local/lib/python3.10/dist-packages (from transformers) (23.1)\n",
            "Requirement already satisfied: numpy>=1.17 in /usr/local/lib/python3.10/dist-packages (from transformers) (1.22.4)\n",
            "Requirement already satisfied: filelock in /usr/local/lib/python3.10/dist-packages (from transformers) (3.12.0)\n",
            "Requirement already satisfied: fsspec in /usr/local/lib/python3.10/dist-packages (from huggingface-hub<1.0,>=0.11.0->transformers) (2023.4.0)\n",
            "Requirement already satisfied: typing-extensions>=3.7.4.3 in /usr/local/lib/python3.10/dist-packages (from huggingface-hub<1.0,>=0.11.0->transformers) (4.5.0)\n",
            "Requirement already satisfied: urllib3<3,>=1.21.1 in /usr/local/lib/python3.10/dist-packages (from requests->transformers) (2.0.2)\n",
            "Requirement already satisfied: charset-normalizer<4,>=2 in /usr/local/lib/python3.10/dist-packages (from requests->transformers) (3.1.0)\n"
          ]
        }
      ]
    },
    {
      "cell_type": "code",
      "source": [
        "from googletrans import Translator\n",
        "from transformers import pipeline\n",
        "# Initialize translator and pipeline for summarization\n",
        "translator = Translator()\n",
        "summarizer = pipeline(\"summarization\")"
      ],
      "metadata": {
        "id": "2-NjlZpkBCaD"
      },
      "execution_count": null,
      "outputs": []
    },
    {
      "cell_type": "code",
      "source": [
        "# Input text in Hindi\n",
        "hindi_text = \"\"\"गोस्वामी तुलसीदास ने कहा है- ‘बड़े भाग मानुष तन पावा’ अर्थात् मानव शरीर बड़ी किस्मत से मिलता है। इस शरीर से सुख-सुविधाओं का आनंद उठाने के लिए इसका स्वस्थ एवं नीरोग होना अत्यावश्यक है। यूँ तो स्वस्थ शरीर पाने के कई तरीके हो सकते हैं पर व्यायाम उनमें सर्वोत्तम है। पुरुषार्थ प्राप्ति के लिए आवश्यक – मानव जीवन के चार पुरुषार्थ माने जाते हैं। ये हैं-धर्म अर्थ, काम और मोक्ष। इन्हें पाने का साधन है- स्वास्थ्य। अर्थात् यदि मनुष्य का जीवन नीरोग है तभी इन पुरुषार्थों के माध्यम से जीवन को सफल बनाया जा सकता है। रोगी और अस्वस्थ व्यक्ति न तो धर्मचिंतन कर सकता है और न उद्यम करके धनोपार्जन कर सकता है, न वह काम की प्राप्ति कर सकता है और न मोक्ष की प्राप्ति। अतः उत्तम स्वास्थ्य की ज़रूरत निस्संदेह है और उत्तम स्वास्थ्य पाने का सर्वोत्तम साधन हैव्यायाम। वास्तव में व्यायाम स्वास्थ्य का मूलमंत्र है। व्यायाम के लाभ – उत्तम स्वास्थ्य के लिए संतुलित पौष्टिक भोजन शुद्ध जलवायु, संयमित जीवन, स्वच्छता आदि आवश्यक है, परंतु इनमें सर्वोपरि है-व्यायाम। व्यायाम के अभाव में पौष्टिक भोजन पूरी तरह से प्रभावी नहीं हो पाता है। व्यायाम में चिरयौवन पाने का राज छिपा है। जो व्यक्ति नियमित व्यायाम करता है, बुढ़ापा उसके निकट नहीं आता है। इससे उसका शरीर ऊर्जावान बना रहता है और लंबे समय तक चेहरे या शरीर पर झुर्रियाँ नहीं पड़ती हैं। व्यायाम हमारे शरीर की पाचन क्रिया को दुरुस्त रखता है। सही ढंग से पचा भोजन ही रक्त, मज्जा, माँस आदि में परिवर्तित हो पाता है। व्यायाम हमारे शरीर कर रक्त संचार भी ठीक रखता है। इससे शारीरिक स्वास्थ्य ही नहीं मानसिक स्वास्थ्य भी उत्तम बनता है। इसके अलावा शरीर सुगठित, फुरतीला, लचीला और सुंदर बनता है। व्यायाम का उचित समय – व्यायाम करने का सर्वोत्तम समय प्रातः काल है। इस समय पूरब की लालिमा शरीर में नवोत्साह भर देती है। इससे मन प्रफुल्लित हो जाता है। इस समय बहने वाली शीतल मंद हवा चित्त को प्रसन्न कर देती है और शरीर को ऊर्जा से भर देती है। पक्षियों का कलख कुछ-कहकर हमें व्यायाम करने की प्रेरणा देता हुआ प्रतीत होता है। इस समय शौच आदि से निवृत्त होकर बिना कुछ खाए व्यायाम करना चाहिए। ऋतु और मौसम को ध्यान में रखकर शरीर पर सरसों के तेल की मालिश व्यायाम से पूर्व करना अच्छा रहता है। दोपहर या तेज़ धूप में व्यायाम से बचना चाहिए। यदि किसी कारण सवेरे समय न मिले तो शाम को व्यायाम करना चाहिए। ध्यान देने योग्य बातें – व्यायाम करते समय कुछ बाते अवश्य ध्यान में रखना चाहिए। व्यायाम इस तरह करना चाहिए कि शरीर के सभी अंगों का सही ढंग से व्यायाम हो। शरीर के कुछ अंगों पर ही ज़ोर पड़ने से वे पुष्ट हो जाते हैं परंतु अन्य अंग कमजोर रह जाते हैं। इससे शरीर बेडौल हो जाता है। व्यायाम करते समय श्वास फूलने पर व्यायाम बंद कर देना चाहिए, अन्यथा शरीर की नसें टेढ़ी होने का डर रहता है। व्यायाम करते समय सदा नाक से साँस लेनी चाहिए, मुँह से कदापि नहीं। व्यायाम करने के तुरंत उपरांत कभी नहाना नहीं चाहिए। इसके अलावा व्यायाम ऐसी जगह पर करना चाहिए जहाँ पर्याप्त वायु और प्रकाश हो। व्यायाम की मात्रा धीरे-धीरे बढ़ानी चाहिए अन्यथा अगले दिन व्यायाम करने की इच्छा नहीं होगी। \"\"\"\n",
        "\n",
        "# Translate Hindi text to English\n",
        "english_text = translator.translate(hindi_text, dest='en').text\n",
        "\n",
        "# Summarize English text\n",
        "summary = summarizer(english_text, max_length=200, min_length=100, do_sample=False)\n",
        "\n",
        "# Get summary text and print it\n",
        "summary_text = summary[0]['summary_text']\n",
        "#print(summary_text)\n",
        "\n",
        "# Translate summary text to Hindi\n",
        "hindi_summary_text = translator.translate(summary_text, dest='hi').text\n",
        "\n",
        "# Print summary text in Hindi\n",
        "print(\"Summary :\\n\",hindi_summary_text)"
      ],
      "metadata": {
        "colab": {
          "base_uri": "https://localhost:8080/"
        },
        "id": "DADFx_l_D9ZM",
        "outputId": "29ef2861-db07-4f13-eb89-847a1f31b962"
      },
      "execution_count": null,
      "outputs": [
        {
          "output_type": "stream",
          "name": "stdout",
          "text": [
            "Summary :\n",
            " गोस्वामी तुलसीदास ने कहा है- 'बड़ा हिस्सा मानुश तन पाव' का अर्थ है कि मानव शरीर महान भाग्य के साथ मिलता है।इस शरीर से आराम का आनंद लेने के लिए एक स्वस्थ और स्वस्थ शरीर होना आवश्यक है।व्यायाम में चिरियावन प्राप्त करने का रहस्य छिपा हुआ है।जो व्यक्ति नियमित व्यायाम करता है वह बुढ़ापे के पास नहीं आता है।इसके कारण, उसका शरीर ऊर्जावान रहता है और लंबे समय तक चेहरे या शरीर पर झुर्रियों का कारण नहीं बनता है।व्यायाम करने का सबसे अच्छा समय सुबह है।\n"
          ]
        }
      ]
    }
  ]
}